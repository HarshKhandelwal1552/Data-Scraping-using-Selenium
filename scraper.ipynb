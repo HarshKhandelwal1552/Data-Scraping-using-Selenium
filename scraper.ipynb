{
 "metadata": {
  "language_info": {
   "codemirror_mode": {
    "name": "ipython",
    "version": 3
   },
   "file_extension": ".py",
   "mimetype": "text/x-python",
   "name": "python",
   "nbconvert_exporter": "python",
   "pygments_lexer": "ipython3",
   "version": "3.7.9-final"
  },
  "orig_nbformat": 2,
  "kernelspec": {
   "name": "gputest",
   "display_name": "gputest",
   "language": "python"
  }
 },
 "nbformat": 4,
 "nbformat_minor": 2,
 "cells": [
  {
   "cell_type": "code",
   "execution_count": null,
   "metadata": {},
   "outputs": [],
   "source": [
    "!pip install Selenium\n",
    "!pip install moviepy\n",
    "!pip install selenium\n",
    "!pip install urllib\n",
    "!pip install requests"
   ]
  },
  {
   "cell_type": "code",
   "execution_count": 1,
   "metadata": {},
   "outputs": [],
   "source": [
    "import os\n",
    "import pandas as pd \n",
    "import time\n",
    "import requests \n",
    "import re\n",
    "import urllib\n",
    "from tqdm import tqdm\n",
    "from moviepy.editor import *\n",
    "from selenium import webdriver\n",
    "from selenium import webdriver\n",
    "from selenium.webdriver.common.keys import Keys\n",
    "from selenium.webdriver.support.ui import WebDriverWait\n",
    "from selenium.webdriver.support import expected_conditions as EC\n",
    "from selenium.webdriver.common.by import By"
   ]
  },
  {
   "cell_type": "code",
   "execution_count": 2,
   "metadata": {},
   "outputs": [],
   "source": [
    "# we need the proper place where the chrome driver is stored.\n",
    "# in my case it was in my working directory.\n",
    "DIR_PATH= os.path.dirname(os.path.realpath('__file__')) + \"/chromedriver\"\n",
    "\n",
    "# the abilities of valorant players\n",
    "abilities= [\n",
    "    'Sky Smoke',\n",
    "    'Orbital Strike',\n",
    "    'Stim Beacon',\n",
    "    'Incendiary',\n",
    "    'Paint Shells',\n",
    "    'Showstopper',\n",
    "    'Boom Bot',\n",
    "    'Blast Pack',\n",
    "    'Spycam',\n",
    "    'Neural Theft',\n",
    "    'Trapwire',\n",
    "    'Cyber Cage',\n",
    "    'Tailwind',\n",
    "    'Bladestorm',\n",
    "    'Cloudburst',\n",
    "    'Updraft',\n",
    "    'Dark Cover',\n",
    "    'From the Shadows',\n",
    "    'Shrouded Step',\n",
    "    'Paranoia',\n",
    "    'Fault line',\n",
    "    'Rolling Thunder',\n",
    "    'Aftershock',\n",
    "    'Flashpoint',\n",
    "    'Toxic Screen',\n",
    "    \"Viper's Pit\",\n",
    "    'Snake Bite',\n",
    "    'Poison Cloud',\n",
    "    'Hot hands',\n",
    "    'Run it Back',\n",
    "    'Blaze',\n",
    "    'Curveball',\n",
    "    'Healing Orb',\n",
    "    'Resurrection',\n",
    "    'Barrier Orb',\n",
    "    'Slow Orb',\n",
    "    'Recon Bolt',\n",
    "    'Recon',\n",
    "    \"Hunter's Fury\",\n",
    "    'Owl Drone',\n",
    "    'Shock Bolt',\n",
    "    'Dismiss',\n",
    "    'Empress',\n",
    "    'Leer',\n",
    "    'Devour',\n",
    "    'Turret',\n",
    "    'Lockdown',\n",
    "    'Alarmbot',\n",
    "    'Nanoswarm',\n",
    "    'Flash',\n",
    "    'Trailblazer',\n",
    "    'Regrowth',\n",
    "    'Seekers',\n",
    "    'Guiding Light',\n",
    "    'Molly'\n",
    "]\n",
    "# title will store all the titles for the giuds\n",
    "title= []"
   ]
  },
  {
   "cell_type": "code",
   "execution_count": 3,
   "metadata": {},
   "outputs": [],
   "source": [
    "# since the dummy links have abilities specified in them but spaces are replaced with %20\n",
    "abilities= [s.replace(\" \", \"%20\") for s in abilities]"
   ]
  },
  {
   "cell_type": "code",
   "execution_count": 4,
   "metadata": {},
   "outputs": [],
   "source": [
    "# setting up the enviroment for out drivers\n",
    "options= webdriver.ChromeOptions()\n",
    "options.add_argument('--ignore-certificate-errors')\n",
    "options.add_argument('--ignore-ssl-errors')\n",
    "os.environ[\"webdriver.chrome.driver\"]= DIR_PATH"
   ]
  },
  {
   "cell_type": "code",
   "execution_count": 5,
   "metadata": {},
   "outputs": [],
   "source": [
    "# parent url is the url where these dummy links are, i am calling them dummy links because after clicking those links the video page \n",
    "# pop's up \n",
    "parent_url = \"https://blitz.gg/valorant/guides?agent=all&difficulty=all&map=all&side=both&ability=all\"\n",
    "parent_driver = webdriver.Chrome(chrome_options=options, executable_path= DIR_PATH)   # using the chromedriver stored in DIR_PATH\n",
    "parent_driver.get(parent_url)    # loading the url in parent_driver"
   ]
  },
  {
   "cell_type": "code",
   "execution_count": 6,
   "metadata": {},
   "outputs": [],
   "source": [
    "hover_links= []  # this will have all dummy links \n",
    "topics_xpath = '//a[@class=\"LoadMoreButton__LoadMore-sc-1qhz8lq-0 iRYlOI\"]' # this is the path for the load more button.\n",
    "time.sleep(5)  # initial sleep time until the load more button appears in page\n"
   ]
  },
  {
   "cell_type": "code",
   "execution_count": 7,
   "metadata": {},
   "outputs": [],
   "source": [
    "# this function will take all the dummy links present on page currently\n",
    "def get_links():\n",
    "    # getting all <a> tags\n",
    "    lnks=parent_driver.find_elements_by_tag_name(\"a\")\n",
    "    # traverse list\n",
    "    for lnk in lnks:\n",
    "    # get_attribute() to get all href\n",
    "        dummy_link= str(lnk.get_attribute('href'))\n",
    "        # getting all dummy links we need since they start with 'https://blitz.gg/valorant/maps/'\n",
    "        if dummy_link.startswith('https://blitz.gg/valorant/maps/'):\n",
    "            hover_links.append(dummy_link)\n"
   ]
  },
  {
   "cell_type": "code",
   "execution_count": 8,
   "metadata": {},
   "outputs": [],
   "source": [
    "# since i dont know how many times we need to click on load more buttom i randomly took 200 as large enough.\n",
    "for i in range(200):\n",
    "    try: \n",
    "        # gettings dummy links\n",
    "        get_links()\n",
    "        time.sleep(2) # my network is slow so i am ading a 2 sec delay\n",
    "        # going to the bottom of the page since load more is somewhere in bottom\n",
    "        parent_driver.execute_script(\"window.scrollTo(0, document.body.scrollHeight);\")\n",
    "        # wait until the button is interactable so that we can click it\n",
    "        WebDriverWait(parent_driver, 20).until(EC.visibility_of_element_located((By.XPATH, topics_xpath)))\n",
    "        # get the element\n",
    "        elem= parent_driver.find_element_by_xpath(topics_xpath)\n",
    "        # since the element is clickable we can click it\n",
    "        elem.click()\n",
    "    except:\n",
    "        # if there is now more \"load more\" option we will close the window\n",
    "        parent_driver.close()\n",
    "        break"
   ]
  },
  {
   "cell_type": "code",
   "execution_count": 9,
   "metadata": {},
   "outputs": [
    {
     "output_type": "execute_result",
     "data": {
      "text/plain": [
       "1200"
      ]
     },
     "metadata": {},
     "execution_count": 9
    }
   ],
   "source": [
    "len(hover_links)"
   ]
  },
  {
   "cell_type": "code",
   "execution_count": 10,
   "metadata": {},
   "outputs": [],
   "source": [
    "with open(\"hover_links.txt\", \"w\") as output:\n",
    "    output.write(str(hover_links))"
   ]
  },
  {
   "cell_type": "code",
   "execution_count": 11,
   "metadata": {},
   "outputs": [
    {
     "output_type": "execute_result",
     "data": {
      "text/plain": [
       "'https://blitz.gg/valorant/maps/haven?agent=skye&guide=Grass%20Support%2FInfo%20Flash%20Into%20Garage'"
      ]
     },
     "metadata": {},
     "execution_count": 11
    }
   ],
   "source": [
    "# lets take a look how our dummy links look like\n",
    "hover_links[98] "
   ]
  },
  {
   "cell_type": "code",
   "execution_count": 12,
   "metadata": {},
   "outputs": [],
   "source": [
    "# this fuction will identify which ability is used by its name\n",
    "def finder (l, file_name):\n",
    "    for x in l:\n",
    "        if str(file_name).find(x) !=-1:\n",
    "            return x.replace(\"%20\", \" \")"
   ]
  },
  {
   "cell_type": "code",
   "execution_count": 13,
   "metadata": {},
   "outputs": [],
   "source": [
    "# the title for video is after 'guide=' \n",
    "title= [s.split('guide=',1)[1] for s in hover_links]\n",
    "# Spaces are represted as %20 in dummy links\n",
    "title= [s.replace(\"%20\", \" \") for s in title]\n",
    "# abilities_used\n",
    "ability_used= [finder(abilities, str(s)) for s in hover_links]\n",
    "# getting the map name\n",
    "match_map= [re.search('maps/(.+?)?agent', str(s)).group(1)[:-1] for s in hover_links] \n",
    "# getting agent name \n",
    "agent_name= [re.search('agent=(.+?)&', str(s)).group(1) for s in hover_links]   "
   ]
  },
  {
   "cell_type": "code",
   "execution_count": 14,
   "metadata": {},
   "outputs": [],
   "source": [
    "v_files= [] # contains the link of the guide"
   ]
  },
  {
   "cell_type": "code",
   "execution_count": 15,
   "metadata": {},
   "outputs": [
    {
     "output_type": "execute_result",
     "data": {
      "text/plain": [
       "200"
      ]
     },
     "metadata": {},
     "execution_count": 15
    }
   ],
   "source": [
    "import gc\n",
    "gc.collect()"
   ]
  },
  {
   "cell_type": "code",
   "execution_count": 16,
   "metadata": {},
   "outputs": [],
   "source": [
    "def get_video(url, i):\n",
    "    # using chrome driver\n",
    "    driver.get(url)\n",
    "    # time.sleep(1.5)\n",
    "    v_xpath = '//div[@class=\"Map__VideoFrame-kgp3fv-7 dUFyqf\"]'\n",
    "    WebDriverWait(driver, 4).until(EC.visibility_of_element_located((By.XPATH, v_xpath)))\n",
    "    time.sleep(0.25)\n",
    "    # the video link is in <div> tag\n",
    "    lnks=driver.find_elements_by_tag_name(\"div\")\n",
    "    # traverse list\n",
    "    for lnk in lnks:\n",
    "        # data-div attribute contains the video link we need\n",
    "        v_file= lnk.get_attribute('data-vid')\n",
    "        if v_file:\n",
    "            # driver.close()\n",
    "            v_files.append(v_file)\n",
    "            data.append((agent_name[i], ability_used[i], match_map[i], title[i], v_file))\n",
    "            return\n",
    "    # closing the page as soon as we are done with it\n",
    "    "
   ]
  },
  {
   "cell_type": "code",
   "execution_count": 17,
   "metadata": {},
   "outputs": [],
   "source": [
    "data=[]\n",
    "driver= webdriver.Chrome(chrome_options=options, executable_path= DIR_PATH)"
   ]
  },
  {
   "cell_type": "code",
   "execution_count": 18,
   "metadata": {},
   "outputs": [],
   "source": [
    "error= []"
   ]
  },
  {
   "cell_type": "code",
   "execution_count": 19,
   "metadata": {},
   "outputs": [
    {
     "output_type": "stream",
     "name": "stderr",
     "text": [
      "100%|██████████| 1200/1200 [1:42:43<00:00,  5.14s/it]\n"
     ]
    }
   ],
   "source": [
    "# getting all data for every dummy link\n",
    "i=0\n",
    "for lnk in tqdm(hover_links):\n",
    "    try:\n",
    "        get_video(lnk, i)\n",
    "        i+=1\n",
    "    except:\n",
    "        error.append(i)\n",
    "        try: \n",
    "            get_video(lnk, i)\n",
    "        except:\n",
    "            print(i)\n",
    "        i+=1\n",
    "driver.close()"
   ]
  },
  {
   "cell_type": "code",
   "execution_count": 20,
   "metadata": {},
   "outputs": [
    {
     "output_type": "execute_result",
     "data": {
      "text/plain": [
       "1198"
      ]
     },
     "metadata": {},
     "execution_count": 20
    }
   ],
   "source": [
    "len(data)"
   ]
  },
  {
   "cell_type": "code",
   "execution_count": 21,
   "metadata": {},
   "outputs": [],
   "source": [
    "import csv\n",
    "columns= ['agent_name', 'ability_used', 'match_map', 'title', 'link']\n",
    "with open(\"data.csv\", \"w\") as f:\n",
    "    write = csv.writer(f) \n",
    "      \n",
    "    write.writerow(columns) \n",
    "    write.writerows(data) "
   ]
  },
  {
   "source": [
    "# Happy valorant guys.      Have fun"
   ],
   "cell_type": "markdown",
   "metadata": {}
  },
  {
   "cell_type": "code",
   "execution_count": null,
   "metadata": {},
   "outputs": [],
   "source": []
  }
 ]
}